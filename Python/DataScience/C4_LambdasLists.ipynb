{
 "cells": [
  {
   "cell_type": "code",
   "execution_count": 22,
   "id": "de3f3225-9dbf-4b63-840a-8df3ead5d07d",
   "metadata": {},
   "outputs": [
    {
     "name": "stdout",
     "output_type": "stream",
     "text": [
      "With method:  ['donald', 'michael', 'kakarotto', 'hugo']\n",
      "With lambda:  ['donald', 'michael', 'kakarotto', 'hugo']\n",
      "Comprehension list:  ['donald', 'michael', 'kakarotto', 'hugo']\n"
     ]
    }
   ],
   "source": [
    "l = [\"Donald Trump\", \"Michael Jackson\", \"Kakarotto Geo\", \"Hugo Chavez\"]\n",
    "#Methdod 1 with a function\n",
    "def first_name(person):\n",
    "    person = person.split()[0].lower()\n",
    "    return person\n",
    "person = \"Luis Angel\"\n",
    "print(\"With method: \", list(map(first_name, l)))\n",
    "\n",
    "#Method 2 with a lambda\n",
    "print(\"With lambda: \", list(map(lambda name : first_name(name), l)))\n",
    "\n",
    "#Comprehension list\n",
    "new_list = [first_name(person) for person in l]\n",
    "print(\"Comprehension list: \", new_list)\n"
   ]
  }
 ],
 "metadata": {
  "kernelspec": {
   "display_name": "Python 3 (ipykernel)",
   "language": "python",
   "name": "python3"
  },
  "language_info": {
   "codemirror_mode": {
    "name": "ipython",
    "version": 3
   },
   "file_extension": ".py",
   "mimetype": "text/x-python",
   "name": "python",
   "nbconvert_exporter": "python",
   "pygments_lexer": "ipython3",
   "version": "3.13.1"
  }
 },
 "nbformat": 4,
 "nbformat_minor": 5
}
