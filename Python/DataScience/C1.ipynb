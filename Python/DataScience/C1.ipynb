{
 "cells": [
  {
   "cell_type": "code",
   "execution_count": 10,
   "id": "cfeb1503-9971-4024-8116-c34cac1a849c",
   "metadata": {},
   "outputs": [],
   "source": [
    "import re"
   ]
  },
  {
   "cell_type": "code",
   "execution_count": 12,
   "id": "22907b37-0bb6-4b0f-929a-072bdfac7a77",
   "metadata": {},
   "outputs": [
    {
     "name": "stdout",
     "output_type": "stream",
     "text": [
      "['Luis', 'Angel', 'Moreno', 'Delgado']\n",
      "['Luis', 'Angel', 'Moreno', 'Delgado']\n"
     ]
    }
   ],
   "source": [
    "# Lists\n",
    "fullname = \"Luis Angel Moreno Delgado\"\n",
    "fullname_hard = \"LuisAngelMorenoDelgado\"\n",
    "x_l_h = re.findall(\"[A-Z][^A-Z]*\", fullname_hard)\n",
    "x_l = fullname.split(' ')\n",
    "print(x_l)\n",
    "print(x_l_h)"
   ]
  },
  {
   "cell_type": "code",
   "execution_count": 1,
   "id": "c712257a-df1f-4e89-963f-bbc3ec971c54",
   "metadata": {},
   "outputs": [],
   "source": [
    "# Dictionary\n",
    "x = {\"Angel\" : \"camdax@gmail.com\", \"Eduardo\" : \"eduardo@gmail.com\"}"
   ]
  },
  {
   "cell_type": "code",
   "execution_count": 18,
   "id": "8b8b0d65-4a8d-4be5-8594-967936eef808",
   "metadata": {},
   "outputs": [
    {
     "name": "stdout",
     "output_type": "stream",
     "text": [
      "camdax@gmail.com\n",
      "Iterating:\n",
      "camdax@gmail.com\n",
      "eduardo@gmail.com\n",
      "Angel , email:  camdax@gmail.com\n",
      "Eduardo , email:  eduardo@gmail.com\n"
     ]
    }
   ],
   "source": [
    "print(x[\"Angel\"])\n",
    "print(\"Iterating:\")\n",
    "\n",
    "for email in x.values():\n",
    "    print(email)\n",
    "\n",
    "for name, email in x.items():\n",
    "    print(name, \", email: \", email)"
   ]
  },
  {
   "cell_type": "code",
   "execution_count": 24,
   "id": "410440eb-d67f-45ae-942f-f06c272f4591",
   "metadata": {},
   "outputs": [
    {
     "name": "stdout",
     "output_type": "stream",
     "text": [
      "His name he's Angel, is 18 years old and his weight is 66.4\n"
     ]
    }
   ],
   "source": [
    "dict_test = {\"Name\" : \"Angel\", \"Age\" : 18, \"Weight\" : 66.4}\n",
    "text = \"His name he's {}, is {} years old and his weight is {}\"\n",
    "print(text.format(dict_test[\"Name\"],\n",
    "                  dict_test[\"Age\"],\n",
    "                  dict_test[\"Weight\"]))"
   ]
  },
  {
   "cell_type": "code",
   "execution_count": null,
   "id": "0784368e-74ec-48ec-9c32-0ea3b32c34bc",
   "metadata": {},
   "outputs": [],
   "source": []
  }
 ],
 "metadata": {
  "kernelspec": {
   "display_name": "Python 3 (ipykernel)",
   "language": "python",
   "name": "python3"
  },
  "language_info": {
   "codemirror_mode": {
    "name": "ipython",
    "version": 3
   },
   "file_extension": ".py",
   "mimetype": "text/x-python",
   "name": "python",
   "nbconvert_exporter": "python",
   "pygments_lexer": "ipython3",
   "version": "3.12.8"
  }
 },
 "nbformat": 4,
 "nbformat_minor": 5
}
