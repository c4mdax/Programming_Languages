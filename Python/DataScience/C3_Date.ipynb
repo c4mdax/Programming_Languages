{
 "cells": [
  {
   "cell_type": "code",
   "execution_count": 1,
   "id": "e8088036-1252-4669-9bcb-b02d1da5abb9",
   "metadata": {},
   "outputs": [
    {
     "data": {
      "text/plain": [
       "1734817803.7938566"
      ]
     },
     "execution_count": 1,
     "metadata": {},
     "output_type": "execute_result"
    }
   ],
   "source": [
    "import datetime as dt\n",
    "import time as tm\n",
    "tm.time()"
   ]
  },
  {
   "cell_type": "code",
   "execution_count": 4,
   "id": "e9df6ffa-dedc-4171-a5f4-3a4467f9d40b",
   "metadata": {},
   "outputs": [
    {
     "data": {
      "text/plain": [
       "datetime.datetime(2024, 12, 21, 15, 50, 40, 495317)"
      ]
     },
     "execution_count": 4,
     "metadata": {},
     "output_type": "execute_result"
    }
   ],
   "source": [
    "dtnow = dt.datetime.fromtimestamp(tm.time())\n",
    "dtnow"
   ]
  },
  {
   "cell_type": "code",
   "execution_count": 10,
   "id": "183b2839-3fef-4026-9f67-b9b30d9328c8",
   "metadata": {},
   "outputs": [
    {
     "name": "stdout",
     "output_type": "stream",
     "text": [
      "2024-12-21\n"
     ]
    }
   ],
   "source": [
    "today = dt.date.today()\n",
    "print(today)"
   ]
  },
  {
   "cell_type": "code",
   "execution_count": 20,
   "id": "6eaf6796-5dc7-4d7c-8851-475cdf541708",
   "metadata": {},
   "outputs": [],
   "source": [
    "delta = dt.timedelta(days = 10)"
   ]
  },
  {
   "cell_type": "code",
   "execution_count": 21,
   "id": "bc79a03a-6b47-4dba-b7e8-51ec53cf1bfa",
   "metadata": {},
   "outputs": [
    {
     "name": "stdout",
     "output_type": "stream",
     "text": [
      "2024-12-11\n"
     ]
    }
   ],
   "source": [
    "print(today - delta)"
   ]
  }
 ],
 "metadata": {
  "kernelspec": {
   "display_name": "Python 3 (ipykernel)",
   "language": "python",
   "name": "python3"
  },
  "language_info": {
   "codemirror_mode": {
    "name": "ipython",
    "version": 3
   },
   "file_extension": ".py",
   "mimetype": "text/x-python",
   "name": "python",
   "nbconvert_exporter": "python",
   "pygments_lexer": "ipython3",
   "version": "3.13.1"
  }
 },
 "nbformat": 4,
 "nbformat_minor": 5
}
