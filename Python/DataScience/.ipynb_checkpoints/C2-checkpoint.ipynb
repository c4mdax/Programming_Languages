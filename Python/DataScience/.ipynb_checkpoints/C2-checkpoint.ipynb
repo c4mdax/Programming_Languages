{
 "cells": [
  {
   "cell_type": "code",
   "execution_count": 3,
   "id": "fce9f98a-3474-43f8-88f1-4f9c5261bebe",
   "metadata": {
    "scrolled": true
   },
   "outputs": [
    {
     "data": {
      "text/plain": [
       "[{'symboling': '3',\n",
       "  'normalized-losses': '?',\n",
       "  'make': 'alfa-romero',\n",
       "  'fuel-type': 'gas',\n",
       "  'aspiration': 'std',\n",
       "  'num-of-doors': 'two',\n",
       "  'body-style': 'convertible',\n",
       "  'drive-wheels': 'rwd',\n",
       "  'engine-location': 'front',\n",
       "  'wheel-base': '88.6',\n",
       "  'length': '168.8',\n",
       "  'width': '64.1',\n",
       "  'height': '48.8',\n",
       "  'curb-weight': '2548',\n",
       "  'engine-type': 'dohc',\n",
       "  'num-of-cylinders': 'four',\n",
       "  'engine-size': '130',\n",
       "  'fuel-system': 'mpfi',\n",
       "  'bore': '3.47',\n",
       "  'stroke': '2.68',\n",
       "  'compression-ratio': '9',\n",
       "  'horsepower': '111',\n",
       "  'peak-rpm': '5000',\n",
       "  'city-mpg': '21',\n",
       "  'highway-mpg': '27',\n",
       "  'price': '13495'},\n",
       " {'symboling': '3',\n",
       "  'normalized-losses': '?',\n",
       "  'make': 'alfa-romero',\n",
       "  'fuel-type': 'gas',\n",
       "  'aspiration': 'std',\n",
       "  'num-of-doors': 'two',\n",
       "  'body-style': 'convertible',\n",
       "  'drive-wheels': 'rwd',\n",
       "  'engine-location': 'front',\n",
       "  'wheel-base': '88.6',\n",
       "  'length': '168.8',\n",
       "  'width': '64.1',\n",
       "  'height': '48.8',\n",
       "  'curb-weight': '2548',\n",
       "  'engine-type': 'dohc',\n",
       "  'num-of-cylinders': 'four',\n",
       "  'engine-size': '130',\n",
       "  'fuel-system': 'mpfi',\n",
       "  'bore': '3.47',\n",
       "  'stroke': '2.68',\n",
       "  'compression-ratio': '9',\n",
       "  'horsepower': '111',\n",
       "  'peak-rpm': '5000',\n",
       "  'city-mpg': '21',\n",
       "  'highway-mpg': '27',\n",
       "  'price': '16500'},\n",
       " {'symboling': '1',\n",
       "  'normalized-losses': '?',\n",
       "  'make': 'alfa-romero',\n",
       "  'fuel-type': 'gas',\n",
       "  'aspiration': 'std',\n",
       "  'num-of-doors': 'two',\n",
       "  'body-style': 'hatchback',\n",
       "  'drive-wheels': 'rwd',\n",
       "  'engine-location': 'front',\n",
       "  'wheel-base': '94.5',\n",
       "  'length': '171.2',\n",
       "  'width': '65.5',\n",
       "  'height': '52.4',\n",
       "  'curb-weight': '2823',\n",
       "  'engine-type': 'ohcv',\n",
       "  'num-of-cylinders': 'six',\n",
       "  'engine-size': '152',\n",
       "  'fuel-system': 'mpfi',\n",
       "  'bore': '2.68',\n",
       "  'stroke': '3.47',\n",
       "  'compression-ratio': '9',\n",
       "  'horsepower': '154',\n",
       "  'peak-rpm': '5000',\n",
       "  'city-mpg': '19',\n",
       "  'highway-mpg': '26',\n",
       "  'price': '16500'}]"
      ]
     },
     "execution_count": 3,
     "metadata": {},
     "output_type": "execute_result"
    }
   ],
   "source": [
    "import csv\n",
    "\n",
    "with open(\"Automobile_data.csv\") as automobile_file:\n",
    "    automobile = list(csv.DictReader(automobile_file))\n",
    "\n",
    "automobile[:3]"
   ]
  },
  {
   "cell_type": "code",
   "execution_count": 4,
   "id": "c19b9b4f-a3d8-4b39-857d-86dba79faeab",
   "metadata": {},
   "outputs": [
    {
     "data": {
      "text/plain": [
       "205"
      ]
     },
     "execution_count": 4,
     "metadata": {},
     "output_type": "execute_result"
    }
   ],
   "source": [
    "len(automobile)"
   ]
  },
  {
   "cell_type": "code",
   "execution_count": 5,
   "id": "d2759348-967c-4dce-89b7-91bb222d8ce2",
   "metadata": {},
   "outputs": [
    {
     "data": {
      "text/plain": [
       "dict_keys(['symboling', 'normalized-losses', 'make', 'fuel-type', 'aspiration', 'num-of-doors', 'body-style', 'drive-wheels', 'engine-location', 'wheel-base', 'length', 'width', 'height', 'curb-weight', 'engine-type', 'num-of-cylinders', 'engine-size', 'fuel-system', 'bore', 'stroke', 'compression-ratio', 'horsepower', 'peak-rpm', 'city-mpg', 'highway-mpg', 'price'])"
      ]
     },
     "execution_count": 5,
     "metadata": {},
     "output_type": "execute_result"
    }
   ],
   "source": [
    "automobile[0].keys()"
   ]
  },
  {
   "cell_type": "code",
   "execution_count": 6,
   "id": "67ab64b6-b6bb-4e14-804d-28254797af9f",
   "metadata": {},
   "outputs": [
    {
     "data": {
      "text/plain": [
       "dict_values(['3', '?', 'alfa-romero', 'gas', 'std', 'two', 'convertible', 'rwd', 'front', '88.6', '168.8', '64.1', '48.8', '2548', 'dohc', 'four', '130', 'mpfi', '3.47', '2.68', '9', '111', '5000', '21', '27', '13495'])"
      ]
     },
     "execution_count": 6,
     "metadata": {},
     "output_type": "execute_result"
    }
   ],
   "source": [
    "automobile[0].values()"
   ]
  },
  {
   "cell_type": "code",
   "execution_count": 14,
   "id": "75fff684-3903-48fc-b703-05a48b433bd8",
   "metadata": {},
   "outputs": [
    {
     "name": "stdout",
     "output_type": "stream",
     "text": [
      "126.90731707317073\n"
     ]
    }
   ],
   "source": [
    "promedio_tamaño_motor = sum(int(es[\"engine-size\"]) for es in automobile) / len(automobile)\n",
    "print(promedio_tamaño_motor)"
   ]
  },
  {
   "cell_type": "code",
   "execution_count": 21,
   "id": "0568aa78-3115-4fe5-ae44-900381a8f022",
   "metadata": {},
   "outputs": [
    {
     "name": "stdout",
     "output_type": "stream",
     "text": [
      "{'bmw', 'peugot', 'mitsubishi', 'isuzu', 'volvo', 'saab', 'jaguar', 'chevrolet', 'alfa-romero', 'mercury', 'mazda', 'subaru', 'plymouth', 'volkswagen', 'porsche', 'honda', 'mercedes-benz', 'renault', 'audi', 'toyota', 'nissan', 'dodge'}\n"
     ]
    }
   ],
   "source": [
    "#Marcas\n",
    "marcas = set(row[\"make\"] for row in automobile)\n",
    "print(marcas)"
   ]
  },
  {
   "cell_type": "code",
   "execution_count": 35,
   "id": "22efe0ab-9293-4bcc-82ac-e85a0ff27e73",
   "metadata": {},
   "outputs": [
    {
     "name": "stdout",
     "output_type": "stream",
     "text": [
      "{'hatchback', 'hardtop', 'wagon', 'sedan', 'convertible'}\n"
     ]
    }
   ],
   "source": [
    "# Body style\n",
    "body_styles = set(row[\"body-style\"] for row in automobile)\n",
    "print(body_styles)"
   ]
  },
  {
   "cell_type": "code",
   "execution_count": null,
   "id": "7d3a4aae-d2a8-4392-931d-e1380fd99fb6",
   "metadata": {},
   "outputs": [],
   "source": []
  }
 ],
 "metadata": {
  "kernelspec": {
   "display_name": "Python 3 (ipykernel)",
   "language": "python",
   "name": "python3"
  },
  "language_info": {
   "codemirror_mode": {
    "name": "ipython",
    "version": 3
   },
   "file_extension": ".py",
   "mimetype": "text/x-python",
   "name": "python",
   "nbconvert_exporter": "python",
   "pygments_lexer": "ipython3",
   "version": "3.12.7"
  }
 },
 "nbformat": 4,
 "nbformat_minor": 5
}
