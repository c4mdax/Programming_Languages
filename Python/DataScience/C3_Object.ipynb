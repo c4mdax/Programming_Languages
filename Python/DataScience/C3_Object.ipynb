{
 "cells": [
  {
   "cell_type": "code",
   "execution_count": 35,
   "id": "2bab48d2-0e44-4512-97b7-ac5e2bd344e7",
   "metadata": {},
   "outputs": [
    {
     "name": "stdout",
     "output_type": "stream",
     "text": [
      "Dubya\n",
      "18\n"
     ]
    }
   ],
   "source": [
    "class Person:\n",
    "    name: str\n",
    "    age: int\n",
    "    \n",
    "    def __init__(self, name: str, age: int):\n",
    "        self.name = name\n",
    "        self.age = age\n",
    "    def set_name(self, name: str):\n",
    "        self.name = name\n",
    "    def set_age(self, age: int):\n",
    "        self.age = age\n",
    "\n",
    "angel = Person(\"Dubya\", 18)\n",
    "print(angel.name)\n",
    "print(angel.age)"
   ]
  },
  {
   "cell_type": "code",
   "execution_count": 36,
   "id": "60494935-5432-417a-8a70-7896e9fe60c7",
   "metadata": {},
   "outputs": [
    {
     "data": {
      "text/plain": [
       "<map at 0x72e30c156830>"
      ]
     },
     "execution_count": 36,
     "metadata": {},
     "output_type": "execute_result"
    }
   ],
   "source": [
    "primero = Person(\"1\", 21)\n",
    "segundo = Person(\"2\", 14)\n",
    "tercero = Person(\"3\", 92)\n",
    "lista = [primero, segundo, tercero]\n",
    "\n",
    "map(lambda person : person.set_name(\"Igual\"), lista)"
   ]
  }
 ],
 "metadata": {
  "kernelspec": {
   "display_name": "Python 3 (ipykernel)",
   "language": "python",
   "name": "python3"
  },
  "language_info": {
   "codemirror_mode": {
    "name": "ipython",
    "version": 3
   },
   "file_extension": ".py",
   "mimetype": "text/x-python",
   "name": "python",
   "nbconvert_exporter": "python",
   "pygments_lexer": "ipython3",
   "version": "3.13.1"
  }
 },
 "nbformat": 4,
 "nbformat_minor": 5
}
